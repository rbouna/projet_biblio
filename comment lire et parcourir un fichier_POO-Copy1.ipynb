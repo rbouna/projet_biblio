{
 "cells": [
  {
   "cell_type": "markdown",
   "id": "840c3afe",
   "metadata": {},
   "source": [
    "# Module.py "
   ]
  },
  {
   "cell_type": "code",
   "execution_count": 74,
   "id": "54f81b14",
   "metadata": {},
   "outputs": [
    {
     "name": "stdout",
     "output_type": "stream",
     "text": [
      "Requirement already satisfied: PyPDF2 in c:\\users\\thedy\\anaconda3\\lib\\site-packages (2.11.2)\n",
      "Requirement already satisfied: typing_extensions>=3.10.0.0 in c:\\users\\thedy\\anaconda3\\lib\\site-packages (from PyPDF2) (3.10.0.2)\n"
     ]
    }
   ],
   "source": [
    "#première étape installé le module de lecture du fichier format pdf\n",
    "!pip3 install PyPDF2"
   ]
  },
  {
   "cell_type": "code",
   "execution_count": 59,
   "id": "81ebd927",
   "metadata": {},
   "outputs": [
    {
     "name": "stdout",
     "output_type": "stream",
     "text": [
      "Requirement already satisfied: PyMuPDF in c:\\users\\thedy\\anaconda3\\lib\\site-packages (1.21.0)\n",
      "Note: you may need to restart the kernel to use updated packages.\n"
     ]
    }
   ],
   "source": [
    "#première étape installé le module de extraction de la table de matière du fichier format pdf\n",
    "pip install PyMuPDF"
   ]
  },
  {
   "cell_type": "code",
   "execution_count": 60,
   "id": "cc864c84",
   "metadata": {},
   "outputs": [
    {
     "name": "stdout",
     "output_type": "stream",
     "text": [
      "\n",
      "PyMuPDF 1.21.0: Python bindings for the MuPDF 1.21.0 library.\n",
      "Version date: 2022-11-08 00:00:01.\n",
      "Built for Python 3.9 on win32 (64-bit).\n",
      "\n"
     ]
    }
   ],
   "source": [
    "#from PyMuPDF import fitz\n",
    "import fitz\n",
    "print(fitz.__doc__)"
   ]
  },
  {
   "cell_type": "code",
   "execution_count": 82,
   "id": "99431b33",
   "metadata": {
    "scrolled": true
   },
   "outputs": [],
   "source": [
    "# Extraction de la table de Matière pour un livre\n",
    "doc = fitz.open('./alletz_histoire_des_singes.pdf')\n",
    "table_matiere = doc.get_toc()\n",
    "table_matiere"
   ]
  },
  {
   "cell_type": "code",
   "execution_count": 75,
   "id": "2542f335",
   "metadata": {},
   "outputs": [
    {
     "name": "stderr",
     "output_type": "stream",
     "text": [
      "Xref table not zero-indexed. ID numbers for objects will be corrected.\n"
     ]
    }
   ],
   "source": [
    "#deuxième étape importation du module installé et codage\n",
    "\n",
    "import PyPDF2\n",
    "\n",
    "FILE_PATH  = './alletz_histoire_des_singes.pdf'                     # donnons un chemin du fichier considéré\n",
    "with open(FILE_PATH, mode='rb') as f:                              # ensuite ouvrie le fichier\n",
    "    reader=PyPDF2.PdfFileReader(f)                                # définir un objet et inséré un paramètre\n",
    "    page=reader.getPage(0)\n",
    "    print(page.extractText())"
   ]
  },
  {
   "cell_type": "code",
   "execution_count": 76,
   "id": "e647c86f",
   "metadata": {},
   "outputs": [
    {
     "name": "stderr",
     "output_type": "stream",
     "text": [
      "Xref table not zero-indexed. ID numbers for objects will be corrected.\n"
     ]
    }
   ],
   "source": [
    "import PyPDF2\n",
    "\n",
    "FILE_PATH  = './alletz_histoire_des_singes.pdf'                           # donnons un chemin du fichier considéré\n",
    "with open(FILE_PATH, mode='rb') as f:                                    # ensuite ouvrie le fichier\n",
    "    reader=PyPDF2.PdfFileReader(f)                                      # définir un objet et inséré un paramètre\n",
    "    for i in range(4):\n",
    "        page=reader.getPage(i)                                         # lecture de la page\n",
    "        print(page.extractText())                                     # affiche de la page lu"
   ]
  },
  {
   "cell_type": "code",
   "execution_count": null,
   "id": "8a4494ba",
   "metadata": {},
   "outputs": [],
   "source": [
    "#Extraction des information avec reference"
   ]
  },
  {
   "cell_type": "code",
   "execution_count": 16,
   "id": "01291ec2",
   "metadata": {},
   "outputs": [
    {
     "name": "stderr",
     "output_type": "stream",
     "text": [
      "Xref table not zero-indexed. ID numbers for objects will be corrected.\n"
     ]
    }
   ],
   "source": [
    "import PyPDF2\n",
    "\n",
    "FILE_PATH  = './alletz_histoire_des_singes.pdf'# donnons un chemin du fichier considéré\n",
    "with open(FILE_PATH, mode='rb') as f:# ensuite ouvrie le fichier\n",
    "    reader=PyPDF2.PdfFileReader(f)#définir un objet et inséré un paramètre\n",
    "    page=reader.getPage(0)\n",
    "    text=page.extractText()"
   ]
  },
  {
   "cell_type": "code",
   "execution_count": 17,
   "id": "26334928",
   "metadata": {},
   "outputs": [
    {
     "name": "stdout",
     "output_type": "stream",
     "text": [
      "[]\n"
     ]
    }
   ],
   "source": [
    "import re\n",
    "nom_ovr=re.findall('author',text)\n",
    "print(nom_ovr)"
   ]
  },
  {
   "cell_type": "code",
   "execution_count": 77,
   "id": "54521953",
   "metadata": {},
   "outputs": [
    {
     "name": "stderr",
     "output_type": "stream",
     "text": [
      "Xref table not zero-indexed. ID numbers for objects will be corrected.\n"
     ]
    },
    {
     "name": "stdout",
     "output_type": "stream",
     "text": [
      "\n",
      "    Information about ./alletz_histoire_des_singes.pdf:\n",
      "    Nom_d'auteur: Pons-Augustin Alletz\n",
      "     \n"
     ]
    }
   ],
   "source": [
    "\n",
    "from PyPDF2 import PdfFileReader\n",
    "\n",
    "\n",
    "def extract_information(pdf_path):\n",
    "    with open(pdf_path, 'rb') as f:\n",
    "        pdf = PdfFileReader(f)\n",
    "        information = pdf.getDocumentInfo()\n",
    "        number_of_pages = pdf.getNumPages()\n",
    "\n",
    "    txt = f\"\"\"\n",
    "    Information about {pdf_path}:\n",
    "    Nom_d'auteur: {information.author}\n",
    "     \"\"\"\n",
    "    print(txt)\n",
    "    return information\n",
    "\n",
    "\n",
    "if __name__ == '__main__':\n",
    "    path = './alletz_histoire_des_singes.pdf'\n",
    "    extract_information(path)"
   ]
  },
  {
   "cell_type": "code",
   "execution_count": 78,
   "id": "12d53015",
   "metadata": {},
   "outputs": [
    {
     "name": "stderr",
     "output_type": "stream",
     "text": [
      "Xref table not zero-indexed. ID numbers for objects will be corrected.\n"
     ]
    },
    {
     "name": "stdout",
     "output_type": "stream",
     "text": [
      "\n",
      "    Information about ./alletz_histoire_des_singes.pdf:\n",
      "    Nom_de_l'ouvrage: Histoire des singes,et autres animaux curieux\n",
      "     \n"
     ]
    }
   ],
   "source": [
    "\n",
    "from PyPDF2 import PdfFileReader\n",
    "\n",
    "\n",
    "def extract_information(pdf_path):\n",
    "    with open(pdf_path, 'rb') as f:\n",
    "        pdf = PdfFileReader(f)\n",
    "        information = pdf.getDocumentInfo()\n",
    "        number_of_pages = pdf.getNumPages()\n",
    "\n",
    "    txt = f\"\"\"\n",
    "    Information about {pdf_path}:\n",
    "    Nom_de_l'ouvrage: {information.title}\n",
    "     \"\"\"\n",
    "    print(txt)\n",
    "    return information\n",
    "\n",
    "if __name__ == '__main__':\n",
    "    path = './alletz_histoire_des_singes.pdf'\n",
    "    extract_information(path)"
   ]
  },
  {
   "cell_type": "code",
   "execution_count": 80,
   "id": "2c100906",
   "metadata": {},
   "outputs": [],
   "source": [
    "from PyPDF2 import PdfFileReader\n",
    "\n",
    "\n",
    "def extract_information(pdf_path):\n",
    "    with open(pdf_path, 'rb') as f:\n",
    "        pdf = PdfFileReader(f)\n",
    "        information = pdf.getDocumentInfo()\n",
    "        number_of_pages = pdf.getNumPages()\n",
    "\n",
    "    txt = f\"\"\"\n",
    "    Information about {pdf_path}:\n",
    "     Nom_d'auteur: {information.author}\n",
    "     \"\"\"\n",
    "    print(txt)\n",
    "    return information\n",
    "\n",
    "if __name__ == '__main__':\n",
    "    path = './agnel_proces_contre_les_animaux.pdf'\n",
    "    extract_information(path)"
   ]
  },
  {
   "cell_type": "code",
   "execution_count": 33,
   "id": "1c817537",
   "metadata": {},
   "outputs": [],
   "source": [
    "from PyPDF2 import PdfFileReader\n",
    "\n",
    "\n",
    "def extract_information(pdf_path):\n",
    "    with open(pdf_path, 'rb') as f:\n",
    "        pdf = PdfFileReader(f)\n",
    "        information = pdf.getDocumentInfo()\n",
    "        number_of_pages = pdf.getNumPages()\n",
    "\n",
    "    txt = f\"\"\"\n",
    "    Information about {pdf_path}:\n",
    "    Nom_de_l'ouvrage: {information.}\n",
    "     \"\"\"\n",
    "    print(txt)\n",
    "    return information\n",
    "\n",
    "\n",
    "if __name__ == '__main__':\n",
    "    path = './agnel_proces_contre_les_animaux.pdf'\n",
    "    extract_information(path)"
   ]
  },
  {
   "cell_type": "code",
   "execution_count": 81,
   "id": "92826475",
   "metadata": {},
   "outputs": [],
   "source": [
    "import PyPDF2\n",
    "import re\n",
    "\n",
    "\n",
    "file_name=\"./agnel_proces_contre_les_animaux.pdf\"                             # assignation de fichier\n",
    "livre=PyPDF2.PdfFileReader(file_name)                                         # numbre de pages\n",
    "pages=livre.getNumPages()                                                     # recherche des informations par termes\n",
    "search='independent'\n",
    "\n",
    "list_pages=[]                                                          # liste des tuples (tous les evenements,numero de pages)\n",
    "for i in range(1):\n",
    "    current_page=livre.getPage(i)\n",
    "    text=current_page.extractText()\n",
    "    if re.findall(search,text):\n",
    "        print(re.findall(search,text()))"
   ]
  },
  {
   "cell_type": "code",
   "execution_count": 27,
   "id": "b5502d3b",
   "metadata": {},
   "outputs": [
    {
     "name": "stdout",
     "output_type": "stream",
     "text": [
      "[]\n"
     ]
    }
   ],
   "source": [
    "import PyPDF2\n",
    "import re\n",
    "\n",
    "\n",
    "file_name=\"./agnel_proces_contre_les_animaux.pdf\"                         # assignation de fichier\n",
    "livre=PyPDF2.PdfFileReader(file_name)                                     # numbre de pages\n",
    "pages=livre.getNumPages()                                                 # recherche des informations par termes\n",
    "search='independent'\n",
    "\n",
    "list_pages=[]                                                       # liste des tuples (tous les evenements,numero de pages)\n",
    "for i in range(pages):\n",
    "    current_page=livre.getPage(i)\n",
    "    text=current_page.extractText()\n",
    "    if re.findall(search,text):\n",
    "        count_page=len(re.findall(search,text))\n",
    "        list_pages.append((count_page,i))\n",
    "print(list_pages)"
   ]
  },
  {
   "cell_type": "code",
   "execution_count": null,
   "id": "5a041d42",
   "metadata": {},
   "outputs": [],
   "source": [
    "pip install EbookLib"
   ]
  },
  {
   "cell_type": "code",
   "execution_count": 7,
   "id": "34e84784",
   "metadata": {},
   "outputs": [
    {
     "name": "stdout",
     "output_type": "stream",
     "text": [
      "<EpubItem:spacer.gif>\n",
      "<EpubImage:By-sa.png:Images/By-sa.png>\n"
     ]
    }
   ],
   "source": [
    "import ebooklib\n",
    "from ebooklib import epub\n",
    "\n",
    "book = epub.read_epub('abraham_leon-la_conception_materialiste_de_la_question_juive.epub')\n",
    "\n",
    "for image in book.get_items_of_type(ebooklib.ITEM_IMAGE):\n",
    "    print (image)"
   ]
  },
  {
   "cell_type": "code",
   "execution_count": 102,
   "id": "b2b1ff07",
   "metadata": {},
   "outputs": [
    {
     "ename": "IndentationError",
     "evalue": "unindent does not match any outer indentation level (<tokenize>, line 19)",
     "output_type": "error",
     "traceback": [
      "\u001b[1;36m  File \u001b[1;32m\"<tokenize>\"\u001b[1;36m, line \u001b[1;32m19\u001b[0m\n\u001b[1;33m    self.N_Auteur = N_Auteur.livre\u001b[0m\n\u001b[1;37m    ^\u001b[0m\n\u001b[1;31mIndentationError\u001b[0m\u001b[1;31m:\u001b[0m unindent does not match any outer indentation level\n"
     ]
    }
   ],
   "source": [
    "# définition de la classe Book et biblio\n",
    "\n",
    "class Book():\n",
    "    def __init__(self,livre):\n",
    "        self.N_Ouvrage =N_Ouvrage.livre\n",
    "        \n",
    "    def extract_information(pdf_path):\n",
    "            with open(pdf_path, 'rb') as f:\n",
    "                pdf = PdfFileReader(f)\n",
    "                information = pdf.getDocumentInfo()\n",
    "                number_of_pages = pdf.getNumPages()\n",
    "\n",
    "            txt = f\"\"\"\n",
    "            Information about {pdf_path}:\n",
    "            Nom_de_l'ouvrage: {information.title}\n",
    "             \"\"\"\n",
    "            print(txt)\n",
    "            return information\n",
    "         self.N_Auteur = N_Auteur.livre\n",
    "        \n",
    "        def extract_information(pdf_path):\n",
    "            with open(pdf_path, 'rb') as f:\n",
    "                pdf = PdfFileReader(f)\n",
    "                information = pdf.getDocumentInfo()\n",
    "                number_of_pages = pdf.getNumPages()\n",
    "\n",
    "            txt = f\"\"\"\n",
    "            Information about {pdf_path}:\n",
    "            Nom_de_l'Auteur: {information.author}\n",
    "             \"\"\"\n",
    "            print(txt)\n",
    "            return information\n",
    "        self.Table_Matière = Table_Matière.livre\n",
    "        fitz.open('./alletz_histoire_des_singes.pdf')\n",
    "            table_matiere = doc.get_toc()\n",
    "            table_matiere\n",
    "        \n",
    "    def pdf():\n",
    "        return\n",
    "    def epub():\n",
    "        return\n",
    "    def txt():\n",
    "        return\n",
    "    \n",
    "class Biblio(Book):\n",
    "    for in dossier:\n",
    "        livre=fichier\n",
    "        Book(livre)"
   ]
  },
  {
   "cell_type": "code",
   "execution_count": 100,
   "id": "8c900228",
   "metadata": {},
   "outputs": [
    {
     "ename": "PermissionError",
     "evalue": "[Errno 13] Permission denied: './livres'",
     "output_type": "error",
     "traceback": [
      "\u001b[1;31m---------------------------------------------------------------------------\u001b[0m",
      "\u001b[1;31mPermissionError\u001b[0m                           Traceback (most recent call last)",
      "\u001b[1;32m~\\AppData\\Local\\Temp/ipykernel_118680/2970853704.py\u001b[0m in \u001b[0;36m<module>\u001b[1;34m\u001b[0m\n\u001b[0;32m      6\u001b[0m \u001b[1;32mif\u001b[0m \u001b[0m__name__\u001b[0m \u001b[1;33m==\u001b[0m \u001b[1;34m'__main__'\u001b[0m\u001b[1;33m:\u001b[0m\u001b[1;33m\u001b[0m\u001b[1;33m\u001b[0m\u001b[0m\n\u001b[0;32m      7\u001b[0m     \u001b[0mpath\u001b[0m \u001b[1;33m=\u001b[0m \u001b[1;34m'./livres'\u001b[0m\u001b[1;33m\u001b[0m\u001b[1;33m\u001b[0m\u001b[0m\n\u001b[1;32m----> 8\u001b[1;33m     \u001b[0mextract_information\u001b[0m\u001b[1;33m(\u001b[0m\u001b[0mpath\u001b[0m\u001b[1;33m)\u001b[0m\u001b[1;33m\u001b[0m\u001b[1;33m\u001b[0m\u001b[0m\n\u001b[0m",
      "\u001b[1;32m~\\AppData\\Local\\Temp/ipykernel_118680/3346909944.py\u001b[0m in \u001b[0;36mextract_information\u001b[1;34m(pdf_path)\u001b[0m\n\u001b[0;32m      3\u001b[0m \u001b[1;33m\u001b[0m\u001b[0m\n\u001b[0;32m      4\u001b[0m \u001b[1;32mdef\u001b[0m \u001b[0mextract_information\u001b[0m\u001b[1;33m(\u001b[0m\u001b[0mpdf_path\u001b[0m\u001b[1;33m)\u001b[0m\u001b[1;33m:\u001b[0m\u001b[1;33m\u001b[0m\u001b[1;33m\u001b[0m\u001b[0m\n\u001b[1;32m----> 5\u001b[1;33m     \u001b[1;32mwith\u001b[0m \u001b[0mopen\u001b[0m\u001b[1;33m(\u001b[0m\u001b[0mpdf_path\u001b[0m\u001b[1;33m,\u001b[0m \u001b[1;34m'rb'\u001b[0m\u001b[1;33m)\u001b[0m \u001b[1;32mas\u001b[0m \u001b[0mf\u001b[0m\u001b[1;33m:\u001b[0m\u001b[1;33m\u001b[0m\u001b[1;33m\u001b[0m\u001b[0m\n\u001b[0m\u001b[0;32m      6\u001b[0m         \u001b[0mpdf\u001b[0m \u001b[1;33m=\u001b[0m \u001b[0mPdfFileReader\u001b[0m\u001b[1;33m(\u001b[0m\u001b[0mf\u001b[0m\u001b[1;33m)\u001b[0m\u001b[1;33m\u001b[0m\u001b[1;33m\u001b[0m\u001b[0m\n\u001b[0;32m      7\u001b[0m         \u001b[0minformation\u001b[0m \u001b[1;33m=\u001b[0m \u001b[0mpdf\u001b[0m\u001b[1;33m.\u001b[0m\u001b[0mgetDocumentInfo\u001b[0m\u001b[1;33m(\u001b[0m\u001b[1;33m)\u001b[0m\u001b[1;33m\u001b[0m\u001b[1;33m\u001b[0m\u001b[0m\n",
      "\u001b[1;31mPermissionError\u001b[0m: [Errno 13] Permission denied: './livres'"
     ]
    }
   ],
   "source": [
    "from PyPDF2 import PdfFileReader\n",
    "#from PyMuPDF import fitz\n",
    "import ebooklib\n",
    "from ebooklib import epub\n",
    "\n",
    "if __name__ == '__main__':\n",
    "    path = './livres'\n",
    "    extract_information(path)"
   ]
  },
  {
   "cell_type": "code",
   "execution_count": null,
   "id": "d0288239",
   "metadata": {},
   "outputs": [],
   "source": []
  }
 ],
 "metadata": {
  "kernelspec": {
   "display_name": "Python 3 (ipykernel)",
   "language": "python",
   "name": "python3"
  },
  "language_info": {
   "codemirror_mode": {
    "name": "ipython",
    "version": 3
   },
   "file_extension": ".py",
   "mimetype": "text/x-python",
   "name": "python",
   "nbconvert_exporter": "python",
   "pygments_lexer": "ipython3",
   "version": "3.9.7"
  }
 },
 "nbformat": 4,
 "nbformat_minor": 5
}
